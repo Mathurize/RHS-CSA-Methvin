{
 "cells": [
  {
   "cell_type": "code",
   "execution_count": null,
   "metadata": {},
   "outputs": [],
   "source": [
    "import numpy as np\n",
    "from importlib import reload\n",
    "import lib.wave_utils\n",
    "from lib.wave_utils import *\n",
    "module_plot = reload(lib.wave_utils)"
   ]
  },
  {
   "cell_type": "markdown",
   "metadata": {},
   "source": [
    "---\n",
    "Wave Equation (1d), partial derivative form:<br><br>\n",
    "&nbsp;&nbsp;&nbsp;&nbsp;&nbsp;&nbsp;<b>$∂²u/∂t² = c² ∂²u/∂x²$</b><br>\n",
    "<li>u(t,x) is the displacement of the wave at time t and position x</li>\n",
    "<li>u[t_n, x_i] is the discretized version, where with input time t_n and position x_i</li>\n",
    "<li>c is the wave speed (as determined by the medium).</li><br>\n",
    "\n",
    "---\n",
    "Finite Differences / Discretized Numeric Approach (e.g. using finite dt, dx)<br>\n",
    "&nbsp;&nbsp;&nbsp;Use Central Difference Approximation to approx second derivative. Derived from taylor series approx (using first three terms) - do expansion at u(t) and eval at u(t-dt) and u(t+dt), then solve for the second derivatives (the first derivatives cancel out)...<br>\n",
    "&nbsp;&nbsp;&nbsp;&nbsp;&nbsp;&nbsp;<b>$∂²u/∂t² ≈ (u(t + Δt, x) - 2u(t, x) + u(t - Δt, x)) / Δt²$</b><br>\n",
    "&nbsp;&nbsp;&nbsp;&nbsp;&nbsp;&nbsp;<b>$∂²u/∂x² ≈ (u(t, x + Δx) - 2u(t, x) + u(t, x - Δx)) / Δx²$</b><br>\n",
    "&nbsp;&nbsp;&nbsp;&nbsp;&nbsp;&nbsp;&nbsp;&nbsp;&nbsp;&nbsp;&nbsp;&nbsp;</b>discretized versions for our sim at point tn, where displacement is u[t, x]...</b><br>\n",
    "&nbsp;&nbsp;&nbsp;&nbsp;&nbsp;&nbsp;<b>$∂²u/∂t² ≈ (u[t_n + 1, x_i] - 2u[t_n, x_i] + u[t_n - 1, x_i]) / Δt²$</b><br>\n",
    "&nbsp;&nbsp;&nbsp;&nbsp;&nbsp;&nbsp;<b>$∂²u/∂x² ≈ (u[t_n, x_i + 1] - 2u[t_n, x_i] + u[t_n, x_i - 1]) / Δx²$</b><br>\n",
    "\n",
    "---\n",
    "Substitute into the Wave Equation:<br>\n",
    "&nbsp;&nbsp;&nbsp;&nbsp;&nbsp;&nbsp;<b>$(u[t_n + 1, x_i] - 2u[t_n, x_i] + u[t_n - 1, x_i]) / Δt² = c² (u[t_n, x_i + 1] - 2u[t_n, x_i] + u[t_n, x_i - 1]) / Δx²$</b><br>\n",
    "&nbsp;&nbsp;&nbsp;&nbsp;&nbsp;&nbsp;...and solve for the next offset:<br>\n",
    "&nbsp;&nbsp;&nbsp;&nbsp;&nbsp;&nbsp;&nbsp;&nbsp;<b>$u[t_n + 1, x_i] = 2(1 - r²)u[t_n, x_i] - u[t_n - 1, x_i] + r²(u[t_n, x_i + 1] + u[t_n, x_i - 1])$</b><br>\n",
    "&nbsp;&nbsp;&nbsp;&nbsp;&nbsp;&nbsp;&nbsp;&nbsp;&nbsp;&nbsp;&nbsp;...where <b>$r = c Δt/Δx$</b> (called the Courant number, note that c is the speed of the wave and Δt & Δx are properties of the simulation)<br>\n",
    "\n",
    "---"
   ]
  },
  {
   "cell_type": "code",
   "execution_count": null,
   "metadata": {},
   "outputs": [],
   "source": [
    "# physical parameters\n",
    "L = 0.65    # length of the string (m)\n",
    "T = 0.04    # total simulation time (in seconds)\n",
    "c = 340.0   # wave speed (m/s) - for guitar string [100, 400] m/s is reasonable (depends on string density & tension)\n",
    "\n",
    "# simulation parameters calculate dx and dt based on CFL (Courant-Friedrichs-Lewy) condition\n",
    "nx = 150    # number of points in x (along the length of the string)\n",
    "dx = L / (nx - 1)   # calculate dx and dt based on CFL (Courant-Friedrichs-Lewy) condition\n",
    "dt = 0.9 * dx / c   # need to keep it stable, so tie dt to dx (r needs to be less than 1)\n",
    "r = c * dt / dx\n",
    "nt = int(T / dt) + 1\n",
    "\n",
    "# initialize solution arrays\n",
    "u = np.zeros((nt, nx), dtype=float)  # wave displacement, scalar function u(t,x) (so, vert displacement at each time/position)\n",
    "v = np.zeros((nt, nx), dtype=float)  # wave displacement's velocity, ∂u/∂t (at each time/position pair)\n",
    "\n",
    "# initial conditions, set x values across the length of the string, then initial displacement & velocity\n",
    "x = np.linspace(0, L, nx)\n",
    "maxInitVel = 100\n",
    "xPeakPos = nx//2\n",
    "v[0, :] = np.concatenate([np.linspace(0, maxInitVel, xPeakPos), np.linspace(maxInitVel, 0, nx - xPeakPos)])  # initial velocity (du/dt)\n",
    "u[0, :] = v[0, :] * (dt * 0)        # initial displacement (maybe start with some initial offset...or not)\n",
    "\n",
    "# figure out u at time 1 using the initial velocities (we don't need v after this, it is then encoded in the previous displacements)\n",
    "u[1, 1:-1] = u[0, 1:-1] + dt * v[0, 1:-1] + (dt**2 / 2) * (c**2) * (u[0, 2:] - 2*u[0, 1:-1] + u[0, :-2]) / dx**2\n",
    "\n",
    "# boundary conditions (first and last x values, across all time points)\n",
    "u[:, 0] = np.zeros(nt)\n",
    "u[:, -1] = np.zeros(nt)\n",
    "\n",
    "# simulate\n",
    "for t_n in range(1, nt - 1):\n",
    "    for x_i in range(1, nx - 1):\n",
    "        u[t_n + 1, x_i] = 2 * (1 - r**2) * u[t_n, x_i] - u[t_n - 1, x_i] + r**2 * (u[t_n, x_i + 1] + u[t_n, x_i - 1])\n",
    "        v[t_n + 1, x_i] = (u[t_n+1, x_i] - u[t_n, x_i]) / dt # approximate velocity (not really needed, but still calculating for fun)\n",
    "\n",
    "    # apply boundary conditions at each time step\n",
    "    u[t_n + 1, 0] = 0.0\n",
    "    u[t_n + 1, -1] = 0.0\n",
    "\n",
    "# show animated plot\n",
    "anim = showAnim(\"Displacement Along String's Length\", x, u)\n",
    "HTML(anim.to_jshtml())"
   ]
  },
  {
   "cell_type": "code",
   "execution_count": null,
   "metadata": {},
   "outputs": [],
   "source": [
    "# find frequency (plot displacement vs time @ the midpoint of x, you can use showGraph(...) to graph t vs u)\n",
    "# TODO\n",
    "\n",
    "# calculate it based on peaks (you can use calcSingalFrequency(...) to help with this)\n",
    "# TODO"
   ]
  },
  {
   "cell_type": "code",
   "execution_count": null,
   "metadata": {},
   "outputs": [],
   "source": [
    "# play the note at that frequence (you can use playNote(...) to help with this)\n",
    "# TODO"
   ]
  },
  {
   "cell_type": "markdown",
   "metadata": {},
   "source": [
    "---\n",
    "Ok, let's add damping - the partial derivative is...<br><br>\n",
    "&nbsp;&nbsp;&nbsp;&nbsp;&nbsp;&nbsp;<b>$∂²u/∂t² + γ ∂u/∂t = c² ∂²u/∂x²$</b><br>\n",
    "&nbsp;&nbsp;&nbsp;&nbsp;&nbsp;&nbsp;&nbsp;&nbsp;$u(t,x)$ is the displacement of the wave at time t and position $x$<br>\n",
    "&nbsp;&nbsp;&nbsp;&nbsp;&nbsp;&nbsp;&nbsp;&nbsp;$u[t_n, x_i]$ is the discretized version, where with input time t_n and position $x_i$<br>\n",
    "&nbsp;&nbsp;&nbsp;&nbsp;&nbsp;&nbsp;&nbsp;&nbsp;$c$ is the wave speed (as determined by the medium).<br>\n",
    "&nbsp;&nbsp;&nbsp;&nbsp;&nbsp;&nbsp;&nbsp;&nbsp;$γ$ (gamma) is the damping term, proportional to the first time derivative (velocity), for our time scale, start with 50 (very heavy damping).<br>\n",
    "\n",
    "---\n",
    "Using the same technique and solving for $u[t_n + 1, x_i]$:<br>\n",
    "&nbsp;&nbsp;&nbsp;&nbsp;&nbsp;&nbsp;&nbsp;&nbsp;<b>$u[t_n + 1, x_i] = (2 - γ * dt) u[t_n, x_i] - (1 - γ * dt) u[t_n - 1, x_i] +\n",
    "r² (u[t_n, x_i + 1] - 2 u[t_n, x_i] + u[t_n, x_i - 1])$</b><br>"
   ]
  },
  {
   "cell_type": "code",
   "execution_count": null,
   "metadata": {},
   "outputs": [],
   "source": [
    "# create an animation with damping\n",
    "damping = 50\n",
    "\n",
    "# simulate\n",
    "# TODO\n",
    "\n",
    "# show animated plot\n",
    "# TODO"
   ]
  }
 ],
 "metadata": {
  "kernelspec": {
   "display_name": "base",
   "language": "python",
   "name": "python3"
  },
  "language_info": {
   "codemirror_mode": {
    "name": "ipython",
    "version": 3
   },
   "file_extension": ".py",
   "mimetype": "text/x-python",
   "name": "python",
   "nbconvert_exporter": "python",
   "pygments_lexer": "ipython3",
   "version": "3.12.3"
  }
 },
 "nbformat": 4,
 "nbformat_minor": 2
}
